{
 "cells": [
  {
   "cell_type": "code",
   "execution_count": 2,
   "metadata": {},
   "outputs": [
    {
     "name": "stdout",
     "output_type": "stream",
     "text": [
      "xaxb\n",
      "ab\n"
     ]
    }
   ],
   "source": [
    "def removeX(str): \n",
    "    if len(str) == 0:\n",
    "        return \"\"\n",
    "    if len(str) == 1 and str[0] == \"x\":\n",
    "        return \"\"\n",
    "    elif len(str) == 1:\n",
    "        return str\n",
    "    elif len(str) > 1 and str[0] == \"x\":\n",
    "        return removeX(str[1:])\n",
    "    else:\n",
    "        return str[0] + removeX(str[1:])\n",
    "\n",
    "# Main\n",
    "string = input()\n",
    "print(removeX(string))\n"
   ]
  },
  {
   "cell_type": "code",
   "execution_count": null,
   "metadata": {},
   "outputs": [],
   "source": []
  },
  {
   "cell_type": "code",
   "execution_count": null,
   "metadata": {},
   "outputs": [],
   "source": []
  }
 ],
 "metadata": {
  "kernelspec": {
   "display_name": "Python 3",
   "language": "python",
   "name": "python3"
  },
  "language_info": {
   "codemirror_mode": {
    "name": "ipython",
    "version": 3
   },
   "file_extension": ".py",
   "mimetype": "text/x-python",
   "name": "python",
   "nbconvert_exporter": "python",
   "pygments_lexer": "ipython3",
   "version": "3.7.3"
  }
 },
 "nbformat": 4,
 "nbformat_minor": 2
}
