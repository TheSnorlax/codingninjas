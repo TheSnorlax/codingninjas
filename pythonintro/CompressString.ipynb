{
 "cells": [
  {
   "cell_type": "code",
   "execution_count": null,
   "metadata": {},
   "outputs": [],
   "source": [
    "def compress(s):\n",
    "    i = 0\n",
    "    res = []\n",
    "    while i < len(s) :\n",
    "        j = i + 1\n",
    "        count = 1\n",
    "        while j < len(s):\n",
    "            if s[i] == s[j]:\n",
    "                count+=1\n",
    "                j+=1\n",
    "            else:\n",
    "                break\n",
    "            \n",
    "        if count > 1:\n",
    "            res.append(s[i])\n",
    "            res.append(count)\n",
    "            \n",
    "        else:\n",
    "            res.append(s[i])\n",
    "            \n",
    "        i = i + count\n",
    "                \n",
    "    for i in range(len(res)):\n",
    "        print(res[i],end ='')\n",
    "           \n",
    "\n",
    "s = input()\n",
    "compress(s)"
   ]
  },
  {
   "cell_type": "code",
   "execution_count": 1,
   "metadata": {},
   "outputs": [
    {
     "name": "stdout",
     "output_type": "stream",
     "text": [
      "abdefgbabfba\n",
      "97\n",
      "98\n",
      "100\n",
      "101\n",
      "102\n",
      "103\n",
      "98\n",
      "97\n",
      "98\n",
      "102\n",
      "98\n",
      "97\n",
      "b\n"
     ]
    }
   ],
   "source": [
    "def highestOccuringCharacter(s):\n",
    "    count = [0] * 256 \n",
    "    max = -1\n",
    "    c = ''\n",
    "    \n",
    "    for i in s:\n",
    "        count[ord(i)]+=1; \n",
    "\n",
    "    for i in s: \n",
    "        if max < count[ord(i)]: \n",
    "            max = count[ord(i)] \n",
    "            c = i \n",
    "\n",
    "    return c\n",
    "\n",
    "s = input()\n",
    "print(highestOccuringCharacter(s))"
   ]
  },
  {
   "cell_type": "code",
   "execution_count": null,
   "metadata": {},
   "outputs": [],
   "source": []
  }
 ],
 "metadata": {
  "kernelspec": {
   "display_name": "Python 3",
   "language": "python",
   "name": "python3"
  },
  "language_info": {
   "codemirror_mode": {
    "name": "ipython",
    "version": 3
   },
   "file_extension": ".py",
   "mimetype": "text/x-python",
   "name": "python",
   "nbconvert_exporter": "python",
   "pygments_lexer": "ipython3",
   "version": "3.7.3"
  }
 },
 "nbformat": 4,
 "nbformat_minor": 2
}
