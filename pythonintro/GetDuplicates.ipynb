{
 "cells": [
  {
   "cell_type": "code",
   "execution_count": 30,
   "metadata": {},
   "outputs": [
    {
     "name": "stdout",
     "output_type": "stream",
     "text": [
      "9\n",
      "0 7 2 5 4 7 1 3 6\n",
      "7\n"
     ]
    }
   ],
   "source": [
    "def getduplicate(arr):\n",
    "    t = 0\n",
    "    myset = dict()\n",
    "    for i in range(0,len(arr)):\n",
    "        if arr[i] in myset.keys():\n",
    "            return arr[i]\n",
    "        else:\n",
    "            myset[arr[i]] = 1\n",
    "size = int(input())\n",
    "list = [int(i) for i in input().split()]\n",
    "y = getduplicate(list)\n",
    "print(y)"
   ]
  },
  {
   "cell_type": "code",
   "execution_count": 34,
   "metadata": {},
   "outputs": [
    {
     "name": "stdout",
     "output_type": "stream",
     "text": [
      "75\n",
      "2 171 25 197 23 6 143 50 154 144 58 113 123 6 116 185 43 154 155 112 37 118 41 67 50 174 186 129 47 95 145 170 1 156 156 172 33 193 164 63 60 98 15 2 117 135 182 90 99 178 187 62 105 87 135 85 135 46 3 33 178 146 198 139 82 195 118 70 93 101 158 81 139 15 18 \n",
      "289\n",
      "15 28 72 97 197 134 133 183 116 41 86 189 162 55 151 122 70 175 98 34 194 195 86 134 15 75 5 32 112 30 116 123 173 60 77 121 200 167 53 9 89 199 41 76 71 171 24 179 60 52 148 10 122 120 102 2 200 114 158 155 78 182 54 163 28 117 65 66 117 184 57 143 136 153 13 45 174 144 42 81 123 45 115 9 15 48 18 80 33 39 119 96 174 146 145 49 16 157 149 153 60 140 196 78 125 160 157 85 1 49 83 127 69 179 6 113 61 11 185 114 147 62 139 14 78 112 56 109 82 181 36 106 58 11 151 186 64 67 123 133 89 142 38 172 39 95 33 126 196 157 52 125 46 107 182 94 2 106 145 82 134 88 62 105 123 100 183 19 177 75 114 141 57 75 176 52 192 121 84 155 192 81 143 136 6 1 14 33 9 24 39 166 167 166 91 189 178 188 133 65 33 144 189 189 146 163 146 49 46 194 34 31 11 1 76 153 32 104 127 181 164 128 80 107 21 41 54 99 19 138 65 157 121 54 18 43 200 100 49 12 66 30 117 183 191 189 38 200 55 194 121 126 144 184 3 148 194 76 143 186 142 149 172 131 77 118 87 174 97 122 140 122 104 149 144 168 101 46 112 199 186 5 131 136 100 55 75 18 115 \n",
      "15\n",
      "197\n",
      "116\n",
      "41\n",
      "70\n",
      "98\n",
      "195\n",
      "15\n",
      "112\n",
      "116\n",
      "123\n",
      "60\n",
      "41\n",
      "171\n",
      "60\n",
      "2\n",
      "158\n",
      "155\n",
      "182\n",
      "117\n",
      "117\n",
      "143\n",
      "174\n",
      "144\n",
      "81\n",
      "123\n",
      "15\n",
      "18\n",
      "33\n",
      "174\n",
      "146\n",
      "145\n",
      "60\n",
      "85\n",
      "1\n",
      "6\n",
      "113\n",
      "185\n",
      "62\n",
      "139\n",
      "112\n",
      "82\n",
      "58\n",
      "186\n",
      "67\n",
      "123\n",
      "172\n",
      "95\n",
      "33\n",
      "46\n",
      "182\n",
      "2\n",
      "145\n",
      "82\n",
      "62\n",
      "105\n",
      "123\n",
      "155\n",
      "81\n",
      "143\n",
      "6\n",
      "1\n",
      "33\n",
      "178\n",
      "33\n",
      "144\n",
      "146\n",
      "146\n",
      "46\n",
      "1\n",
      "164\n",
      "41\n",
      "99\n",
      "18\n",
      "43\n",
      "117\n",
      "144\n",
      "3\n",
      "143\n",
      "186\n",
      "172\n",
      "118\n",
      "87\n",
      "174\n",
      "144\n",
      "101\n",
      "46\n",
      "112\n",
      "186\n",
      "18\n"
     ]
    }
   ],
   "source": [
    "def intersect(list1, list2):\n",
    "    myset = dict()\n",
    "    for i in list1:\n",
    "        if i in myset:\n",
    "            continue\n",
    "        else:\n",
    "            myset[i] = 1\n",
    "    \n",
    "    for j in list2:\n",
    "        if j in myset:\n",
    "            print(j)\n",
    "\n",
    "n1 = int(input())\n",
    "list1 = [int(i) for i in input().split()]\n",
    "n2 = int(input())\n",
    "list2 = [int(i) for i in input().split()]\n",
    "intersect(list1,list2)"
   ]
  },
  {
   "cell_type": "code",
   "execution_count": 47,
   "metadata": {},
   "outputs": [
    {
     "name": "stdout",
     "output_type": "stream",
     "text": [
      "4\n",
      "2 1 6 2\n",
      "5\n",
      "1 2 3 4 2\n",
      "2\n",
      "1\n",
      "2\n"
     ]
    }
   ],
   "source": [
    "def intersect(list1, list2):\n",
    "    temp = set(list2) \n",
    "    list3 = [value for value in list1 if value in temp]\n",
    "    for i in list3:\n",
    "        print(i)\n",
    "    \n",
    "n1 = int(input())\n",
    "list1 = [int(i) for i in input().split()]\n",
    "n2 = int(input())\n",
    "list2 = [int(i) for i in input().split()]\n",
    "intersect(list1,list2)"
   ]
  },
  {
   "cell_type": "code",
   "execution_count": 52,
   "metadata": {},
   "outputs": [
    {
     "name": "stdout",
     "output_type": "stream",
     "text": [
      "4\n",
      "2 1 6 2\n",
      "5\n",
      "1 2 3 4 2\n",
      "2\n",
      "1\n",
      "2\n"
     ]
    }
   ],
   "source": [
    "def intersect(list1, list2):\n",
    "    for i in range(0,len(list1)):\n",
    "        found = False\n",
    "        for j in range(0,len(list2)):\n",
    "            if list2[j] == list1[i]:\n",
    "                found = True\n",
    "        if found:\n",
    "            print(list1[i])\n",
    "    \n",
    "n1 = int(input())\n",
    "list1 = [int(i) for i in input().split()]\n",
    "n2 = int(input())\n",
    "list2 = [int(i) for i in input().split()]\n",
    "intersect(list1,list2)"
   ]
  },
  {
   "cell_type": "code",
   "execution_count": null,
   "metadata": {},
   "outputs": [],
   "source": [
    "m = int(input()) \n",
    "li1 = [int(x) for x in input().split()[:m]] \n",
    "n = int(input()) \n",
    "li2 = [int(x) for x in input().split()[:n]] \n",
    "li3 = [] \n",
    "for i in li1:\n",
    "    for j in li2:\n",
    "        if i == j:\n",
    "            li3.append(i) \n",
    "            li2.remove(j) \n",
    "            break \n",
    "for ele in li3:\n",
    "    print(ele)"
   ]
  },
  {
   "cell_type": "code",
   "execution_count": null,
   "metadata": {},
   "outputs": [],
   "source": []
  },
  {
   "cell_type": "code",
   "execution_count": null,
   "metadata": {},
   "outputs": [],
   "source": []
  },
  {
   "cell_type": "code",
   "execution_count": null,
   "metadata": {},
   "outputs": [],
   "source": []
  },
  {
   "cell_type": "code",
   "execution_count": null,
   "metadata": {},
   "outputs": [],
   "source": []
  },
  {
   "cell_type": "code",
   "execution_count": null,
   "metadata": {},
   "outputs": [],
   "source": []
  },
  {
   "cell_type": "code",
   "execution_count": null,
   "metadata": {},
   "outputs": [],
   "source": []
  },
  {
   "cell_type": "code",
   "execution_count": null,
   "metadata": {},
   "outputs": [],
   "source": []
  },
  {
   "cell_type": "code",
   "execution_count": null,
   "metadata": {},
   "outputs": [],
   "source": []
  },
  {
   "cell_type": "code",
   "execution_count": null,
   "metadata": {},
   "outputs": [],
   "source": []
  },
  {
   "cell_type": "code",
   "execution_count": null,
   "metadata": {},
   "outputs": [],
   "source": []
  },
  {
   "cell_type": "code",
   "execution_count": null,
   "metadata": {},
   "outputs": [],
   "source": []
  },
  {
   "cell_type": "code",
   "execution_count": 39,
   "metadata": {},
   "outputs": [
    {
     "data": {
      "text/plain": [
       "{1}"
      ]
     },
     "execution_count": 39,
     "metadata": {},
     "output_type": "execute_result"
    }
   ],
   "source": [
    "s = set()\n",
    "s.add(1)\n",
    "s"
   ]
  },
  {
   "cell_type": "code",
   "execution_count": null,
   "metadata": {},
   "outputs": [],
   "source": []
  },
  {
   "cell_type": "code",
   "execution_count": null,
   "metadata": {},
   "outputs": [],
   "source": []
  },
  {
   "cell_type": "code",
   "execution_count": null,
   "metadata": {},
   "outputs": [],
   "source": []
  },
  {
   "cell_type": "code",
   "execution_count": null,
   "metadata": {},
   "outputs": [],
   "source": []
  },
  {
   "cell_type": "code",
   "execution_count": null,
   "metadata": {},
   "outputs": [],
   "source": []
  },
  {
   "cell_type": "code",
   "execution_count": null,
   "metadata": {},
   "outputs": [],
   "source": []
  },
  {
   "cell_type": "code",
   "execution_count": null,
   "metadata": {},
   "outputs": [],
   "source": []
  },
  {
   "cell_type": "code",
   "execution_count": null,
   "metadata": {},
   "outputs": [],
   "source": []
  },
  {
   "cell_type": "code",
   "execution_count": null,
   "metadata": {},
   "outputs": [],
   "source": []
  },
  {
   "cell_type": "code",
   "execution_count": null,
   "metadata": {},
   "outputs": [],
   "source": []
  },
  {
   "cell_type": "code",
   "execution_count": null,
   "metadata": {},
   "outputs": [],
   "source": []
  },
  {
   "cell_type": "code",
   "execution_count": null,
   "metadata": {},
   "outputs": [],
   "source": []
  },
  {
   "cell_type": "code",
   "execution_count": null,
   "metadata": {},
   "outputs": [],
   "source": []
  },
  {
   "cell_type": "code",
   "execution_count": null,
   "metadata": {},
   "outputs": [],
   "source": []
  },
  {
   "cell_type": "code",
   "execution_count": null,
   "metadata": {},
   "outputs": [],
   "source": []
  },
  {
   "cell_type": "code",
   "execution_count": null,
   "metadata": {},
   "outputs": [],
   "source": []
  },
  {
   "cell_type": "code",
   "execution_count": null,
   "metadata": {},
   "outputs": [],
   "source": []
  },
  {
   "cell_type": "code",
   "execution_count": null,
   "metadata": {},
   "outputs": [],
   "source": []
  },
  {
   "cell_type": "code",
   "execution_count": null,
   "metadata": {},
   "outputs": [],
   "source": []
  },
  {
   "cell_type": "code",
   "execution_count": null,
   "metadata": {},
   "outputs": [],
   "source": []
  },
  {
   "cell_type": "code",
   "execution_count": null,
   "metadata": {},
   "outputs": [],
   "source": []
  },
  {
   "cell_type": "code",
   "execution_count": null,
   "metadata": {},
   "outputs": [],
   "source": []
  },
  {
   "cell_type": "code",
   "execution_count": null,
   "metadata": {},
   "outputs": [],
   "source": []
  },
  {
   "cell_type": "code",
   "execution_count": null,
   "metadata": {},
   "outputs": [],
   "source": []
  },
  {
   "cell_type": "code",
   "execution_count": null,
   "metadata": {},
   "outputs": [],
   "source": []
  },
  {
   "cell_type": "code",
   "execution_count": null,
   "metadata": {},
   "outputs": [],
   "source": []
  },
  {
   "cell_type": "code",
   "execution_count": null,
   "metadata": {},
   "outputs": [],
   "source": []
  },
  {
   "cell_type": "code",
   "execution_count": null,
   "metadata": {},
   "outputs": [],
   "source": [
    " for i in range(0,len(list)):\n",
    "        pos = list[i]\n",
    "        posVal = list[pos]\n",
    "        print(pos, ' ', posVal)\n",
    "        list[pos] = list[i]\n",
    "        list[i] = posVal\n",
    "#         if list[pos] > -1 or list[pos] == posVal:\n",
    "#             list[pos] = -1\n",
    "#         elif list[pos] == - 1:\n",
    "#             list[pos] = -2\n",
    "#         else:\n",
    "#             list[i] = posVal\n",
    "    print(list)"
   ]
  },
  {
   "cell_type": "code",
   "execution_count": null,
   "metadata": {},
   "outputs": [],
   "source": []
  },
  {
   "cell_type": "code",
   "execution_count": null,
   "metadata": {},
   "outputs": [],
   "source": []
  },
  {
   "cell_type": "code",
   "execution_count": null,
   "metadata": {},
   "outputs": [],
   "source": []
  },
  {
   "cell_type": "code",
   "execution_count": null,
   "metadata": {},
   "outputs": [],
   "source": []
  },
  {
   "cell_type": "code",
   "execution_count": null,
   "metadata": {},
   "outputs": [],
   "source": []
  },
  {
   "cell_type": "code",
   "execution_count": null,
   "metadata": {},
   "outputs": [],
   "source": []
  },
  {
   "cell_type": "code",
   "execution_count": null,
   "metadata": {},
   "outputs": [],
   "source": []
  },
  {
   "cell_type": "code",
   "execution_count": null,
   "metadata": {},
   "outputs": [],
   "source": []
  }
 ],
 "metadata": {
  "kernelspec": {
   "display_name": "Python 3",
   "language": "python",
   "name": "python3"
  },
  "language_info": {
   "codemirror_mode": {
    "name": "ipython",
    "version": 3
   },
   "file_extension": ".py",
   "mimetype": "text/x-python",
   "name": "python",
   "nbconvert_exporter": "python",
   "pygments_lexer": "ipython3",
   "version": "3.7.3"
  }
 },
 "nbformat": 4,
 "nbformat_minor": 2
}
