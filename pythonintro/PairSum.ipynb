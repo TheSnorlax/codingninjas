{
 "cells": [
  {
   "cell_type": "code",
   "execution_count": 7,
   "metadata": {},
   "outputs": [
    {
     "name": "stdout",
     "output_type": "stream",
     "text": [
      "9\n",
      "1 3 6 2 5 4 3 2 4\n",
      "7\n",
      "1   6\n",
      "3   4\n",
      "3   4\n",
      "2   5\n",
      "2   5\n",
      "3   4\n",
      "3   4\n"
     ]
    }
   ],
   "source": [
    "def pairSum(list, target):\n",
    "    for i in range(0,len(list)):\n",
    "        for j in range(i+1,len(list)):\n",
    "            if i == j:\n",
    "                continue\n",
    "            if list[i] + list[j] == target:\n",
    "                if list[i] > list[j]:\n",
    "                    print(list[j], ' ', list[i])\n",
    "                else:\n",
    "                    print(list[i], ' ', list[j])\n",
    "n = int(input())\n",
    "list = [int(i) for i in input().split()]\n",
    "target = int(input())\n",
    "pairSum(list,target)"
   ]
  },
  {
   "cell_type": "code",
   "execution_count": 18,
   "metadata": {},
   "outputs": [
    {
     "name": "stdout",
     "output_type": "stream",
     "text": [
      "7\n",
      "1 2 3 4 5 6 7 \n",
      "12\n",
      "1 4 7 \n",
      "1 5 6 \n",
      "2 3 7 \n",
      "2 4 6 \n",
      "3 4 5 \n"
     ]
    }
   ],
   "source": [
    "def tripletSum(list, target):\n",
    "    for i in range(0,len(list)):\n",
    "        for j in range(i+1,len(list)):\n",
    "            for k in range(j+1,len(list)):\n",
    "                out = []\n",
    "                if list[i] + list[j] + list[k]== target:\n",
    "                    out.append(list[i])\n",
    "                    out.append(list[j])\n",
    "                    out.append(list[k])\n",
    "                    out.sort()\n",
    "                    for m in out:\n",
    "                        print(m, end =' ')\n",
    "                    print()\n",
    "n = int(input())\n",
    "list = [int(i) for i in input().split()]\n",
    "target = int(input())\n",
    "tripletSum(list,target)"
   ]
  },
  {
   "cell_type": "code",
   "execution_count": null,
   "metadata": {},
   "outputs": [],
   "source": []
  },
  {
   "cell_type": "code",
   "execution_count": null,
   "metadata": {},
   "outputs": [],
   "source": []
  },
  {
   "cell_type": "code",
   "execution_count": null,
   "metadata": {},
   "outputs": [],
   "source": []
  },
  {
   "cell_type": "code",
   "execution_count": null,
   "metadata": {},
   "outputs": [],
   "source": []
  },
  {
   "cell_type": "code",
   "execution_count": null,
   "metadata": {},
   "outputs": [],
   "source": []
  },
  {
   "cell_type": "code",
   "execution_count": null,
   "metadata": {},
   "outputs": [],
   "source": []
  },
  {
   "cell_type": "code",
   "execution_count": null,
   "metadata": {},
   "outputs": [],
   "source": []
  },
  {
   "cell_type": "code",
   "execution_count": null,
   "metadata": {},
   "outputs": [],
   "source": []
  },
  {
   "cell_type": "code",
   "execution_count": null,
   "metadata": {},
   "outputs": [],
   "source": []
  },
  {
   "cell_type": "code",
   "execution_count": null,
   "metadata": {},
   "outputs": [],
   "source": []
  },
  {
   "cell_type": "code",
   "execution_count": null,
   "metadata": {},
   "outputs": [],
   "source": []
  },
  {
   "cell_type": "code",
   "execution_count": null,
   "metadata": {},
   "outputs": [],
   "source": []
  },
  {
   "cell_type": "code",
   "execution_count": null,
   "metadata": {},
   "outputs": [],
   "source": []
  },
  {
   "cell_type": "code",
   "execution_count": null,
   "metadata": {},
   "outputs": [],
   "source": []
  },
  {
   "cell_type": "code",
   "execution_count": null,
   "metadata": {},
   "outputs": [],
   "source": []
  },
  {
   "cell_type": "code",
   "execution_count": null,
   "metadata": {},
   "outputs": [],
   "source": []
  },
  {
   "cell_type": "code",
   "execution_count": null,
   "metadata": {},
   "outputs": [],
   "source": []
  },
  {
   "cell_type": "code",
   "execution_count": null,
   "metadata": {},
   "outputs": [],
   "source": []
  },
  {
   "cell_type": "code",
   "execution_count": null,
   "metadata": {},
   "outputs": [],
   "source": []
  },
  {
   "cell_type": "code",
   "execution_count": null,
   "metadata": {},
   "outputs": [],
   "source": []
  },
  {
   "cell_type": "code",
   "execution_count": null,
   "metadata": {},
   "outputs": [],
   "source": []
  }
 ],
 "metadata": {
  "kernelspec": {
   "display_name": "Python 3",
   "language": "python",
   "name": "python3"
  },
  "language_info": {
   "codemirror_mode": {
    "name": "ipython",
    "version": 3
   },
   "file_extension": ".py",
   "mimetype": "text/x-python",
   "name": "python",
   "nbconvert_exporter": "python",
   "pygments_lexer": "ipython3",
   "version": "3.7.3"
  }
 },
 "nbformat": 4,
 "nbformat_minor": 2
}
