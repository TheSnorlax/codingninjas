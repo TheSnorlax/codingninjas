{
 "cells": [
  {
   "cell_type": "code",
   "execution_count": null,
   "metadata": {},
   "outputs": [],
   "source": [
    "def sort012(arr):\n",
    "    low = 0\n",
    "    mid = 0\n",
    "    high = len(arr)-1\n",
    "    while(mid <= high):\n",
    "        if arr[mid] == 0:\n",
    "            arr[low], arr[mid] = arr[mid], arr[low]\n",
    "            low+=1\n",
    "            mid+=1\n",
    "        elif arr[mid] == 1:\n",
    "            mid+=1\n",
    "        else:\n",
    "            arr[mid],arr[high] = arr[high],arr[mid]\n",
    "            high-=1\n",
    "    return arr\n",
    "n = int(input())\n",
    "arr = [int(x) for x in input().split()]\n",
    "arr = sort012(arr)\n",
    "print(*arr)"
   ]
  }
 ],
 "metadata": {
  "kernelspec": {
   "display_name": "Python 3",
   "language": "python",
   "name": "python3"
  },
  "language_info": {
   "codemirror_mode": {
    "name": "ipython",
    "version": 3
   },
   "file_extension": ".py",
   "mimetype": "text/x-python",
   "name": "python",
   "nbconvert_exporter": "python",
   "pygments_lexer": "ipython3",
   "version": "3.7.3"
  }
 },
 "nbformat": 4,
 "nbformat_minor": 2
}
