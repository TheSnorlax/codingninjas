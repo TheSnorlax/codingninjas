{
 "cells": [
  {
   "cell_type": "code",
   "execution_count": null,
   "metadata": {},
   "outputs": [],
   "source": [
    "def compress(s):\n",
    "    i = 0\n",
    "    res = []\n",
    "    while i < len(s) :\n",
    "        j = i + 1\n",
    "        count = 1\n",
    "        while j < len(s):\n",
    "            if s[i] == s[j]:\n",
    "                count+=1\n",
    "                j+=1\n",
    "            else:\n",
    "                break\n",
    "            \n",
    "        if count > 1:\n",
    "            res.append(s[i])\n",
    "            res.append(count)\n",
    "            \n",
    "        else:\n",
    "            res.append(s[i])\n",
    "            \n",
    "        i = i + count\n",
    "                \n",
    "    for i in range(len(res)):\n",
    "        print(res[i],end ='')\n",
    "           \n",
    "\n",
    "s = input()\n",
    "compress(s)"
   ]
  }
 ],
 "metadata": {
  "kernelspec": {
   "display_name": "Python 3",
   "language": "python",
   "name": "python3"
  },
  "language_info": {
   "codemirror_mode": {
    "name": "ipython",
    "version": 3
   },
   "file_extension": ".py",
   "mimetype": "text/x-python",
   "name": "python",
   "nbconvert_exporter": "python",
   "pygments_lexer": "ipython3",
   "version": "3.7.3"
  }
 },
 "nbformat": 4,
 "nbformat_minor": 2
}
