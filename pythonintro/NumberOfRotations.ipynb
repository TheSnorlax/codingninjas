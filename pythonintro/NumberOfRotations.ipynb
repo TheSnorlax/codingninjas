{
 "cells": [
  {
   "cell_type": "code",
   "execution_count": 24,
   "metadata": {},
   "outputs": [
    {
     "name": "stdout",
     "output_type": "stream",
     "text": [
      "622\n",
      "6 6 6 8 10 10 11 11 12 12 13 13 15 17 19 19 20 23 23 25 27 27 28 29 30 30 31 32 32 32 32 32 33 33 33 34 35 37 38 39 40 41 41 42 43 44 44 44 45 49 51 51 51 51 51 53 53 54 55 55 55 58 59 59 60 60 61 63 63 64 66 67 68 69 71 71 71 72 72 75 76 76 77 77 78 78 79 80 80 80 81 83 84 84 84 85 86 86 86 87 89 89 89 90 91 93 93 94 96 98 98 99 99 100 100 101 101 103 104 104 105 105 106 106 106 106 110 110 110 111 112 113 113 114 116 118 118 118 120 120 122 123 123 124 124 125 126 128 128 129 129 130 131 132 132 133 133 134 134 136 136 137 138 138 138 141 142 142 142 143 145 145 145 146 147 147 149 151 151 151 154 154 155 156 158 158 158 160 161 161 161 163 164 165 166 167 168 168 168 168 169 171 172 173 174 174 174 174 174 176 176 177 177 178 180 181 182 183 183 185 185 186 187 188 189 189 189 190 192 193 196 197 197 200 201 203 203 204 205 206 207 209 209 209 210 212 212 216 216 217 219 220 220 221 222 224 225 226 226 228 228 228 228 229 230 230 230 231 231 232 232 232 234 234 234 234 235 236 238 238 238 240 241 242 243 243 244 244 245 245 245 246 249 251 251 252 253 253 255 256 256 257 258 258 258 259 260 260 260 263 263 263 264 264 264 267 267 267 268 268 268 270 271 271 272 273 273 273 274 275 277 278 278 280 281 283 284 285 285 285 287 287 288 289 291 292 292 294 295 297 300 300 300 302 302 302 302 304 304 307 308 309 311 311 314 315 315 315 315 316 316 317 318 318 319 319 319 319 321 322 322 325 327 328 329 329 329 329 329 330 331 333 337 338 338 338 339 340 340 340 343 343 343 344 344 344 344 344 344 345 346 346 346 346 347 347 348 349 349 350 351 353 354 356 356 357 357 358 358 360 361 362 364 364 364 366 369 369 370 370 370 370 371 372 373 373 373 373 374 374 374 374 375 378 378 379 380 380 380 380 381 382 382 383 386 386 386 386 387 387 387 387 387 387 388 388 389 392 392 392 392 393 393 393 393 398 399 399 400 401 401 401 402 402 403 405 406 406 407 408 409 413 414 414 415 415 417 418 421 421 421 421 422 423 423 423 425 426 427 427 428 430 430 431 431 432 432 433 433 435 435 435 437 438 439 439 441 442 442 442 443 443 443 443 445 447 447 448 448 449 449 450 452 452 453 453 453 454 454 454 455 455 455 457 459 459 459 460 460 460 463 464 465 468 468 469 470 470 471 472 472 472 472 473 474 474 474 475 475 476 476 478 478 479 479 481 484 486 487 487 489 490 490 490 491 491 491 493 496 496 497 498 498 498 499 499 499 500 500 1 4 5 \n",
      "619\n"
     ]
    }
   ],
   "source": [
    "n = int(input())\n",
    "arr = [int(x) for x in input().split()]\n",
    "count = 1\n",
    "for i in range(1,len(arr)):\n",
    "    if arr[i] >= arr[i-1]:\n",
    "        count+=1\n",
    "    else:\n",
    "        break\n",
    "    if count+1 == len(arr):\n",
    "        count = 0\n",
    "if count > 0:\n",
    "    print(count)\n",
    "else:\n",
    "    print(0)\n",
    "    "
   ]
  },
  {
   "cell_type": "code",
   "execution_count": null,
   "metadata": {},
   "outputs": [],
   "source": []
  },
  {
   "cell_type": "code",
   "execution_count": null,
   "metadata": {},
   "outputs": [],
   "source": []
  },
  {
   "cell_type": "code",
   "execution_count": null,
   "metadata": {},
   "outputs": [],
   "source": []
  },
  {
   "cell_type": "code",
   "execution_count": null,
   "metadata": {},
   "outputs": [],
   "source": []
  },
  {
   "cell_type": "code",
   "execution_count": null,
   "metadata": {},
   "outputs": [],
   "source": []
  },
  {
   "cell_type": "code",
   "execution_count": null,
   "metadata": {},
   "outputs": [],
   "source": []
  },
  {
   "cell_type": "code",
   "execution_count": null,
   "metadata": {},
   "outputs": [],
   "source": []
  },
  {
   "cell_type": "code",
   "execution_count": null,
   "metadata": {},
   "outputs": [],
   "source": []
  },
  {
   "cell_type": "code",
   "execution_count": null,
   "metadata": {},
   "outputs": [],
   "source": []
  },
  {
   "cell_type": "code",
   "execution_count": null,
   "metadata": {},
   "outputs": [],
   "source": []
  },
  {
   "cell_type": "code",
   "execution_count": null,
   "metadata": {},
   "outputs": [],
   "source": []
  },
  {
   "cell_type": "code",
   "execution_count": null,
   "metadata": {},
   "outputs": [],
   "source": []
  },
  {
   "cell_type": "code",
   "execution_count": null,
   "metadata": {},
   "outputs": [],
   "source": []
  },
  {
   "cell_type": "code",
   "execution_count": null,
   "metadata": {},
   "outputs": [],
   "source": []
  },
  {
   "cell_type": "code",
   "execution_count": null,
   "metadata": {},
   "outputs": [],
   "source": []
  },
  {
   "cell_type": "code",
   "execution_count": null,
   "metadata": {},
   "outputs": [],
   "source": []
  },
  {
   "cell_type": "code",
   "execution_count": null,
   "metadata": {},
   "outputs": [],
   "source": []
  },
  {
   "cell_type": "code",
   "execution_count": null,
   "metadata": {},
   "outputs": [],
   "source": []
  },
  {
   "cell_type": "code",
   "execution_count": null,
   "metadata": {},
   "outputs": [],
   "source": []
  },
  {
   "cell_type": "code",
   "execution_count": null,
   "metadata": {},
   "outputs": [],
   "source": []
  },
  {
   "cell_type": "code",
   "execution_count": null,
   "metadata": {},
   "outputs": [],
   "source": []
  },
  {
   "cell_type": "code",
   "execution_count": null,
   "metadata": {},
   "outputs": [],
   "source": []
  },
  {
   "cell_type": "code",
   "execution_count": null,
   "metadata": {},
   "outputs": [],
   "source": []
  },
  {
   "cell_type": "code",
   "execution_count": null,
   "metadata": {},
   "outputs": [],
   "source": []
  }
 ],
 "metadata": {
  "kernelspec": {
   "display_name": "Python 3",
   "language": "python",
   "name": "python3"
  },
  "language_info": {
   "codemirror_mode": {
    "name": "ipython",
    "version": 3
   },
   "file_extension": ".py",
   "mimetype": "text/x-python",
   "name": "python",
   "nbconvert_exporter": "python",
   "pygments_lexer": "ipython3",
   "version": "3.7.3"
  }
 },
 "nbformat": 4,
 "nbformat_minor": 2
}
